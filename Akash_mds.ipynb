{
  "cells": [
    {
      "cell_type": "markdown",
      "id": "bc1b8548",
      "metadata": {
        "id": "bc1b8548"
      },
      "source": [
        "#### First we'll import all the required packages"
      ]
    },
    {
      "cell_type": "code",
      "execution_count": 8,
      "id": "05c06944",
      "metadata": {
        "id": "05c06944"
      },
      "outputs": [],
      "source": [
        "import pandas as pd\n",
        "import matplotlib.pyplot as plt\n",
        "import plotly.express as px"
      ]
    },
    {
      "cell_type": "markdown",
      "id": "e84c431a",
      "metadata": {
        "id": "e84c431a"
      },
      "source": [
        "then we will load the dataset into pandas dataframe"
      ]
    },
    {
      "cell_type": "code",
      "execution_count": 3,
      "id": "14026603",
      "metadata": {
        "id": "14026603"
      },
      "outputs": [],
      "source": [
        "df = pd.read_excel('data.xlsx')"
      ]
    },
    {
      "cell_type": "markdown",
      "id": "cec89afd",
      "metadata": {
        "id": "cec89afd"
      },
      "source": [
        "reviewing the first 5 rows of data"
      ]
    },
    {
      "cell_type": "code",
      "execution_count": 4,
      "id": "9bd2c206",
      "metadata": {
        "colab": {
          "base_uri": "https://localhost:8080/",
          "height": 206
        },
        "id": "9bd2c206",
        "outputId": "75a0d17b-edec-486f-b7e5-6f53e34ef02b"
      },
      "outputs": [
        {
          "output_type": "execute_result",
          "data": {
            "text/plain": [
              "        Date     Fe    CaO  SiO2   Phos   MgO  Al2O3  TiO2    K2O      S  \\\n",
              "0 2015-04-01  54.39  11.51  5.76  0.099  2.48   2.19  0.20  0.052  0.008   \n",
              "1 2015-04-02  54.86  11.67  5.74  0.061  2.16   1.79  0.14  0.067  0.003   \n",
              "2 2015-04-03  53.84  12.01  5.87  0.113  2.32   2.52  0.18  0.049  0.017   \n",
              "3 2015-04-04  53.35  12.35  5.96  0.110  1.69   3.44  0.17  0.050  0.015   \n",
              "4 2015-04-05  55.20  11.57  5.55  0.070  1.01   2.63  0.15  0.150  0.017   \n",
              "\n",
              "     BR    TI    RDI  \n",
              "0  2.43  70.2  24.85  \n",
              "1  2.41  73.2  23.30  \n",
              "2  2.44  69.5  26.21  \n",
              "3  2.36  66.3  36.58  \n",
              "4  2.27  69.6  26.34  "
            ],
            "text/html": [
              "\n",
              "  <div id=\"df-b7744042-c18d-4a45-b496-96fce30e2c75\">\n",
              "    <div class=\"colab-df-container\">\n",
              "      <div>\n",
              "<style scoped>\n",
              "    .dataframe tbody tr th:only-of-type {\n",
              "        vertical-align: middle;\n",
              "    }\n",
              "\n",
              "    .dataframe tbody tr th {\n",
              "        vertical-align: top;\n",
              "    }\n",
              "\n",
              "    .dataframe thead th {\n",
              "        text-align: right;\n",
              "    }\n",
              "</style>\n",
              "<table border=\"1\" class=\"dataframe\">\n",
              "  <thead>\n",
              "    <tr style=\"text-align: right;\">\n",
              "      <th></th>\n",
              "      <th>Date</th>\n",
              "      <th>Fe</th>\n",
              "      <th>CaO</th>\n",
              "      <th>SiO2</th>\n",
              "      <th>Phos</th>\n",
              "      <th>MgO</th>\n",
              "      <th>Al2O3</th>\n",
              "      <th>TiO2</th>\n",
              "      <th>K2O</th>\n",
              "      <th>S</th>\n",
              "      <th>BR</th>\n",
              "      <th>TI</th>\n",
              "      <th>RDI</th>\n",
              "    </tr>\n",
              "  </thead>\n",
              "  <tbody>\n",
              "    <tr>\n",
              "      <th>0</th>\n",
              "      <td>2015-04-01</td>\n",
              "      <td>54.39</td>\n",
              "      <td>11.51</td>\n",
              "      <td>5.76</td>\n",
              "      <td>0.099</td>\n",
              "      <td>2.48</td>\n",
              "      <td>2.19</td>\n",
              "      <td>0.20</td>\n",
              "      <td>0.052</td>\n",
              "      <td>0.008</td>\n",
              "      <td>2.43</td>\n",
              "      <td>70.2</td>\n",
              "      <td>24.85</td>\n",
              "    </tr>\n",
              "    <tr>\n",
              "      <th>1</th>\n",
              "      <td>2015-04-02</td>\n",
              "      <td>54.86</td>\n",
              "      <td>11.67</td>\n",
              "      <td>5.74</td>\n",
              "      <td>0.061</td>\n",
              "      <td>2.16</td>\n",
              "      <td>1.79</td>\n",
              "      <td>0.14</td>\n",
              "      <td>0.067</td>\n",
              "      <td>0.003</td>\n",
              "      <td>2.41</td>\n",
              "      <td>73.2</td>\n",
              "      <td>23.30</td>\n",
              "    </tr>\n",
              "    <tr>\n",
              "      <th>2</th>\n",
              "      <td>2015-04-03</td>\n",
              "      <td>53.84</td>\n",
              "      <td>12.01</td>\n",
              "      <td>5.87</td>\n",
              "      <td>0.113</td>\n",
              "      <td>2.32</td>\n",
              "      <td>2.52</td>\n",
              "      <td>0.18</td>\n",
              "      <td>0.049</td>\n",
              "      <td>0.017</td>\n",
              "      <td>2.44</td>\n",
              "      <td>69.5</td>\n",
              "      <td>26.21</td>\n",
              "    </tr>\n",
              "    <tr>\n",
              "      <th>3</th>\n",
              "      <td>2015-04-04</td>\n",
              "      <td>53.35</td>\n",
              "      <td>12.35</td>\n",
              "      <td>5.96</td>\n",
              "      <td>0.110</td>\n",
              "      <td>1.69</td>\n",
              "      <td>3.44</td>\n",
              "      <td>0.17</td>\n",
              "      <td>0.050</td>\n",
              "      <td>0.015</td>\n",
              "      <td>2.36</td>\n",
              "      <td>66.3</td>\n",
              "      <td>36.58</td>\n",
              "    </tr>\n",
              "    <tr>\n",
              "      <th>4</th>\n",
              "      <td>2015-04-05</td>\n",
              "      <td>55.20</td>\n",
              "      <td>11.57</td>\n",
              "      <td>5.55</td>\n",
              "      <td>0.070</td>\n",
              "      <td>1.01</td>\n",
              "      <td>2.63</td>\n",
              "      <td>0.15</td>\n",
              "      <td>0.150</td>\n",
              "      <td>0.017</td>\n",
              "      <td>2.27</td>\n",
              "      <td>69.6</td>\n",
              "      <td>26.34</td>\n",
              "    </tr>\n",
              "  </tbody>\n",
              "</table>\n",
              "</div>\n",
              "      <button class=\"colab-df-convert\" onclick=\"convertToInteractive('df-b7744042-c18d-4a45-b496-96fce30e2c75')\"\n",
              "              title=\"Convert this dataframe to an interactive table.\"\n",
              "              style=\"display:none;\">\n",
              "        \n",
              "  <svg xmlns=\"http://www.w3.org/2000/svg\" height=\"24px\"viewBox=\"0 0 24 24\"\n",
              "       width=\"24px\">\n",
              "    <path d=\"M0 0h24v24H0V0z\" fill=\"none\"/>\n",
              "    <path d=\"M18.56 5.44l.94 2.06.94-2.06 2.06-.94-2.06-.94-.94-2.06-.94 2.06-2.06.94zm-11 1L8.5 8.5l.94-2.06 2.06-.94-2.06-.94L8.5 2.5l-.94 2.06-2.06.94zm10 10l.94 2.06.94-2.06 2.06-.94-2.06-.94-.94-2.06-.94 2.06-2.06.94z\"/><path d=\"M17.41 7.96l-1.37-1.37c-.4-.4-.92-.59-1.43-.59-.52 0-1.04.2-1.43.59L10.3 9.45l-7.72 7.72c-.78.78-.78 2.05 0 2.83L4 21.41c.39.39.9.59 1.41.59.51 0 1.02-.2 1.41-.59l7.78-7.78 2.81-2.81c.8-.78.8-2.07 0-2.86zM5.41 20L4 18.59l7.72-7.72 1.47 1.35L5.41 20z\"/>\n",
              "  </svg>\n",
              "      </button>\n",
              "      \n",
              "  <style>\n",
              "    .colab-df-container {\n",
              "      display:flex;\n",
              "      flex-wrap:wrap;\n",
              "      gap: 12px;\n",
              "    }\n",
              "\n",
              "    .colab-df-convert {\n",
              "      background-color: #E8F0FE;\n",
              "      border: none;\n",
              "      border-radius: 50%;\n",
              "      cursor: pointer;\n",
              "      display: none;\n",
              "      fill: #1967D2;\n",
              "      height: 32px;\n",
              "      padding: 0 0 0 0;\n",
              "      width: 32px;\n",
              "    }\n",
              "\n",
              "    .colab-df-convert:hover {\n",
              "      background-color: #E2EBFA;\n",
              "      box-shadow: 0px 1px 2px rgba(60, 64, 67, 0.3), 0px 1px 3px 1px rgba(60, 64, 67, 0.15);\n",
              "      fill: #174EA6;\n",
              "    }\n",
              "\n",
              "    [theme=dark] .colab-df-convert {\n",
              "      background-color: #3B4455;\n",
              "      fill: #D2E3FC;\n",
              "    }\n",
              "\n",
              "    [theme=dark] .colab-df-convert:hover {\n",
              "      background-color: #434B5C;\n",
              "      box-shadow: 0px 1px 3px 1px rgba(0, 0, 0, 0.15);\n",
              "      filter: drop-shadow(0px 1px 2px rgba(0, 0, 0, 0.3));\n",
              "      fill: #FFFFFF;\n",
              "    }\n",
              "  </style>\n",
              "\n",
              "      <script>\n",
              "        const buttonEl =\n",
              "          document.querySelector('#df-b7744042-c18d-4a45-b496-96fce30e2c75 button.colab-df-convert');\n",
              "        buttonEl.style.display =\n",
              "          google.colab.kernel.accessAllowed ? 'block' : 'none';\n",
              "\n",
              "        async function convertToInteractive(key) {\n",
              "          const element = document.querySelector('#df-b7744042-c18d-4a45-b496-96fce30e2c75');\n",
              "          const dataTable =\n",
              "            await google.colab.kernel.invokeFunction('convertToInteractive',\n",
              "                                                     [key], {});\n",
              "          if (!dataTable) return;\n",
              "\n",
              "          const docLinkHtml = 'Like what you see? Visit the ' +\n",
              "            '<a target=\"_blank\" href=https://colab.research.google.com/notebooks/data_table.ipynb>data table notebook</a>'\n",
              "            + ' to learn more about interactive tables.';\n",
              "          element.innerHTML = '';\n",
              "          dataTable['output_type'] = 'display_data';\n",
              "          await google.colab.output.renderOutput(dataTable, element);\n",
              "          const docLink = document.createElement('div');\n",
              "          docLink.innerHTML = docLinkHtml;\n",
              "          element.appendChild(docLink);\n",
              "        }\n",
              "      </script>\n",
              "    </div>\n",
              "  </div>\n",
              "  "
            ]
          },
          "metadata": {},
          "execution_count": 4
        }
      ],
      "source": [
        "df.head()"
      ]
    },
    {
      "cell_type": "markdown",
      "source": [
        "**Now we will analyse the relation between all the features and labels using correlation (Pandas built in function)**\n"
      ],
      "metadata": {
        "id": "iMjiY3oSnv7R"
      },
      "id": "iMjiY3oSnv7R"
    },
    {
      "cell_type": "code",
      "source": [
        "df.corr()"
      ],
      "metadata": {
        "colab": {
          "base_uri": "https://localhost:8080/",
          "height": 426
        },
        "id": "BmjckMCqoPw4",
        "outputId": "cac50b94-1431-463c-f44f-32619758c48b"
      },
      "id": "BmjckMCqoPw4",
      "execution_count": 7,
      "outputs": [
        {
          "output_type": "execute_result",
          "data": {
            "text/plain": [
              "             Fe       CaO      SiO2      Phos       MgO     Al2O3      TiO2  \\\n",
              "Fe     1.000000 -0.811318 -0.820731 -0.210100 -0.579282 -0.318672  0.062383   \n",
              "CaO   -0.811318  1.000000  0.761154 -0.130825  0.304215 -0.120829 -0.437962   \n",
              "SiO2  -0.820731  0.761154  1.000000 -0.098281  0.583867 -0.119137 -0.246200   \n",
              "Phos  -0.210100 -0.130825 -0.098281  1.000000  0.249563  0.506495  0.686285   \n",
              "MgO   -0.579282  0.304215  0.583867  0.249563  1.000000 -0.109076  0.002536   \n",
              "Al2O3 -0.318672 -0.120829 -0.119137  0.506495 -0.109076  1.000000  0.544456   \n",
              "TiO2   0.062383 -0.437962 -0.246200  0.686285  0.002536  0.544456  1.000000   \n",
              "K2O    0.218171  0.074034 -0.037560 -0.597610 -0.517051 -0.222984 -0.410702   \n",
              "S     -0.333517  0.453813  0.310632 -0.185836 -0.063256  0.014774 -0.259950   \n",
              "BR    -0.326214  0.487793 -0.026677  0.160170  0.298585 -0.084338 -0.252725   \n",
              "TI     0.307564  0.127990  0.132962 -0.522789  0.108176 -0.990659 -0.559284   \n",
              "RDI   -0.308897 -0.144018 -0.103723  0.538279 -0.043027  0.958035  0.539988   \n",
              "\n",
              "            K2O         S        BR        TI       RDI  \n",
              "Fe     0.218171 -0.333517 -0.326214  0.307564 -0.308897  \n",
              "CaO    0.074034  0.453813  0.487793  0.127990 -0.144018  \n",
              "SiO2  -0.037560  0.310632 -0.026677  0.132962 -0.103723  \n",
              "Phos  -0.597610 -0.185836  0.160170 -0.522789  0.538279  \n",
              "MgO   -0.517051 -0.063256  0.298585  0.108176 -0.043027  \n",
              "Al2O3 -0.222984  0.014774 -0.084338 -0.990659  0.958035  \n",
              "TiO2  -0.410702 -0.259950 -0.252725 -0.559284  0.539988  \n",
              "K2O    1.000000  0.218133 -0.235453  0.219650 -0.313855  \n",
              "S      0.218133  1.000000  0.108414  0.007932 -0.050901  \n",
              "BR    -0.235453  0.108414  1.000000  0.071326 -0.091171  \n",
              "TI     0.219650  0.007932  0.071326  1.000000 -0.941330  \n",
              "RDI   -0.313855 -0.050901 -0.091171 -0.941330  1.000000  "
            ],
            "text/html": [
              "\n",
              "  <div id=\"df-653bf9c6-2f0a-43dd-97cb-9e76dc7d810b\">\n",
              "    <div class=\"colab-df-container\">\n",
              "      <div>\n",
              "<style scoped>\n",
              "    .dataframe tbody tr th:only-of-type {\n",
              "        vertical-align: middle;\n",
              "    }\n",
              "\n",
              "    .dataframe tbody tr th {\n",
              "        vertical-align: top;\n",
              "    }\n",
              "\n",
              "    .dataframe thead th {\n",
              "        text-align: right;\n",
              "    }\n",
              "</style>\n",
              "<table border=\"1\" class=\"dataframe\">\n",
              "  <thead>\n",
              "    <tr style=\"text-align: right;\">\n",
              "      <th></th>\n",
              "      <th>Fe</th>\n",
              "      <th>CaO</th>\n",
              "      <th>SiO2</th>\n",
              "      <th>Phos</th>\n",
              "      <th>MgO</th>\n",
              "      <th>Al2O3</th>\n",
              "      <th>TiO2</th>\n",
              "      <th>K2O</th>\n",
              "      <th>S</th>\n",
              "      <th>BR</th>\n",
              "      <th>TI</th>\n",
              "      <th>RDI</th>\n",
              "    </tr>\n",
              "  </thead>\n",
              "  <tbody>\n",
              "    <tr>\n",
              "      <th>Fe</th>\n",
              "      <td>1.000000</td>\n",
              "      <td>-0.811318</td>\n",
              "      <td>-0.820731</td>\n",
              "      <td>-0.210100</td>\n",
              "      <td>-0.579282</td>\n",
              "      <td>-0.318672</td>\n",
              "      <td>0.062383</td>\n",
              "      <td>0.218171</td>\n",
              "      <td>-0.333517</td>\n",
              "      <td>-0.326214</td>\n",
              "      <td>0.307564</td>\n",
              "      <td>-0.308897</td>\n",
              "    </tr>\n",
              "    <tr>\n",
              "      <th>CaO</th>\n",
              "      <td>-0.811318</td>\n",
              "      <td>1.000000</td>\n",
              "      <td>0.761154</td>\n",
              "      <td>-0.130825</td>\n",
              "      <td>0.304215</td>\n",
              "      <td>-0.120829</td>\n",
              "      <td>-0.437962</td>\n",
              "      <td>0.074034</td>\n",
              "      <td>0.453813</td>\n",
              "      <td>0.487793</td>\n",
              "      <td>0.127990</td>\n",
              "      <td>-0.144018</td>\n",
              "    </tr>\n",
              "    <tr>\n",
              "      <th>SiO2</th>\n",
              "      <td>-0.820731</td>\n",
              "      <td>0.761154</td>\n",
              "      <td>1.000000</td>\n",
              "      <td>-0.098281</td>\n",
              "      <td>0.583867</td>\n",
              "      <td>-0.119137</td>\n",
              "      <td>-0.246200</td>\n",
              "      <td>-0.037560</td>\n",
              "      <td>0.310632</td>\n",
              "      <td>-0.026677</td>\n",
              "      <td>0.132962</td>\n",
              "      <td>-0.103723</td>\n",
              "    </tr>\n",
              "    <tr>\n",
              "      <th>Phos</th>\n",
              "      <td>-0.210100</td>\n",
              "      <td>-0.130825</td>\n",
              "      <td>-0.098281</td>\n",
              "      <td>1.000000</td>\n",
              "      <td>0.249563</td>\n",
              "      <td>0.506495</td>\n",
              "      <td>0.686285</td>\n",
              "      <td>-0.597610</td>\n",
              "      <td>-0.185836</td>\n",
              "      <td>0.160170</td>\n",
              "      <td>-0.522789</td>\n",
              "      <td>0.538279</td>\n",
              "    </tr>\n",
              "    <tr>\n",
              "      <th>MgO</th>\n",
              "      <td>-0.579282</td>\n",
              "      <td>0.304215</td>\n",
              "      <td>0.583867</td>\n",
              "      <td>0.249563</td>\n",
              "      <td>1.000000</td>\n",
              "      <td>-0.109076</td>\n",
              "      <td>0.002536</td>\n",
              "      <td>-0.517051</td>\n",
              "      <td>-0.063256</td>\n",
              "      <td>0.298585</td>\n",
              "      <td>0.108176</td>\n",
              "      <td>-0.043027</td>\n",
              "    </tr>\n",
              "    <tr>\n",
              "      <th>Al2O3</th>\n",
              "      <td>-0.318672</td>\n",
              "      <td>-0.120829</td>\n",
              "      <td>-0.119137</td>\n",
              "      <td>0.506495</td>\n",
              "      <td>-0.109076</td>\n",
              "      <td>1.000000</td>\n",
              "      <td>0.544456</td>\n",
              "      <td>-0.222984</td>\n",
              "      <td>0.014774</td>\n",
              "      <td>-0.084338</td>\n",
              "      <td>-0.990659</td>\n",
              "      <td>0.958035</td>\n",
              "    </tr>\n",
              "    <tr>\n",
              "      <th>TiO2</th>\n",
              "      <td>0.062383</td>\n",
              "      <td>-0.437962</td>\n",
              "      <td>-0.246200</td>\n",
              "      <td>0.686285</td>\n",
              "      <td>0.002536</td>\n",
              "      <td>0.544456</td>\n",
              "      <td>1.000000</td>\n",
              "      <td>-0.410702</td>\n",
              "      <td>-0.259950</td>\n",
              "      <td>-0.252725</td>\n",
              "      <td>-0.559284</td>\n",
              "      <td>0.539988</td>\n",
              "    </tr>\n",
              "    <tr>\n",
              "      <th>K2O</th>\n",
              "      <td>0.218171</td>\n",
              "      <td>0.074034</td>\n",
              "      <td>-0.037560</td>\n",
              "      <td>-0.597610</td>\n",
              "      <td>-0.517051</td>\n",
              "      <td>-0.222984</td>\n",
              "      <td>-0.410702</td>\n",
              "      <td>1.000000</td>\n",
              "      <td>0.218133</td>\n",
              "      <td>-0.235453</td>\n",
              "      <td>0.219650</td>\n",
              "      <td>-0.313855</td>\n",
              "    </tr>\n",
              "    <tr>\n",
              "      <th>S</th>\n",
              "      <td>-0.333517</td>\n",
              "      <td>0.453813</td>\n",
              "      <td>0.310632</td>\n",
              "      <td>-0.185836</td>\n",
              "      <td>-0.063256</td>\n",
              "      <td>0.014774</td>\n",
              "      <td>-0.259950</td>\n",
              "      <td>0.218133</td>\n",
              "      <td>1.000000</td>\n",
              "      <td>0.108414</td>\n",
              "      <td>0.007932</td>\n",
              "      <td>-0.050901</td>\n",
              "    </tr>\n",
              "    <tr>\n",
              "      <th>BR</th>\n",
              "      <td>-0.326214</td>\n",
              "      <td>0.487793</td>\n",
              "      <td>-0.026677</td>\n",
              "      <td>0.160170</td>\n",
              "      <td>0.298585</td>\n",
              "      <td>-0.084338</td>\n",
              "      <td>-0.252725</td>\n",
              "      <td>-0.235453</td>\n",
              "      <td>0.108414</td>\n",
              "      <td>1.000000</td>\n",
              "      <td>0.071326</td>\n",
              "      <td>-0.091171</td>\n",
              "    </tr>\n",
              "    <tr>\n",
              "      <th>TI</th>\n",
              "      <td>0.307564</td>\n",
              "      <td>0.127990</td>\n",
              "      <td>0.132962</td>\n",
              "      <td>-0.522789</td>\n",
              "      <td>0.108176</td>\n",
              "      <td>-0.990659</td>\n",
              "      <td>-0.559284</td>\n",
              "      <td>0.219650</td>\n",
              "      <td>0.007932</td>\n",
              "      <td>0.071326</td>\n",
              "      <td>1.000000</td>\n",
              "      <td>-0.941330</td>\n",
              "    </tr>\n",
              "    <tr>\n",
              "      <th>RDI</th>\n",
              "      <td>-0.308897</td>\n",
              "      <td>-0.144018</td>\n",
              "      <td>-0.103723</td>\n",
              "      <td>0.538279</td>\n",
              "      <td>-0.043027</td>\n",
              "      <td>0.958035</td>\n",
              "      <td>0.539988</td>\n",
              "      <td>-0.313855</td>\n",
              "      <td>-0.050901</td>\n",
              "      <td>-0.091171</td>\n",
              "      <td>-0.941330</td>\n",
              "      <td>1.000000</td>\n",
              "    </tr>\n",
              "  </tbody>\n",
              "</table>\n",
              "</div>\n",
              "      <button class=\"colab-df-convert\" onclick=\"convertToInteractive('df-653bf9c6-2f0a-43dd-97cb-9e76dc7d810b')\"\n",
              "              title=\"Convert this dataframe to an interactive table.\"\n",
              "              style=\"display:none;\">\n",
              "        \n",
              "  <svg xmlns=\"http://www.w3.org/2000/svg\" height=\"24px\"viewBox=\"0 0 24 24\"\n",
              "       width=\"24px\">\n",
              "    <path d=\"M0 0h24v24H0V0z\" fill=\"none\"/>\n",
              "    <path d=\"M18.56 5.44l.94 2.06.94-2.06 2.06-.94-2.06-.94-.94-2.06-.94 2.06-2.06.94zm-11 1L8.5 8.5l.94-2.06 2.06-.94-2.06-.94L8.5 2.5l-.94 2.06-2.06.94zm10 10l.94 2.06.94-2.06 2.06-.94-2.06-.94-.94-2.06-.94 2.06-2.06.94z\"/><path d=\"M17.41 7.96l-1.37-1.37c-.4-.4-.92-.59-1.43-.59-.52 0-1.04.2-1.43.59L10.3 9.45l-7.72 7.72c-.78.78-.78 2.05 0 2.83L4 21.41c.39.39.9.59 1.41.59.51 0 1.02-.2 1.41-.59l7.78-7.78 2.81-2.81c.8-.78.8-2.07 0-2.86zM5.41 20L4 18.59l7.72-7.72 1.47 1.35L5.41 20z\"/>\n",
              "  </svg>\n",
              "      </button>\n",
              "      \n",
              "  <style>\n",
              "    .colab-df-container {\n",
              "      display:flex;\n",
              "      flex-wrap:wrap;\n",
              "      gap: 12px;\n",
              "    }\n",
              "\n",
              "    .colab-df-convert {\n",
              "      background-color: #E8F0FE;\n",
              "      border: none;\n",
              "      border-radius: 50%;\n",
              "      cursor: pointer;\n",
              "      display: none;\n",
              "      fill: #1967D2;\n",
              "      height: 32px;\n",
              "      padding: 0 0 0 0;\n",
              "      width: 32px;\n",
              "    }\n",
              "\n",
              "    .colab-df-convert:hover {\n",
              "      background-color: #E2EBFA;\n",
              "      box-shadow: 0px 1px 2px rgba(60, 64, 67, 0.3), 0px 1px 3px 1px rgba(60, 64, 67, 0.15);\n",
              "      fill: #174EA6;\n",
              "    }\n",
              "\n",
              "    [theme=dark] .colab-df-convert {\n",
              "      background-color: #3B4455;\n",
              "      fill: #D2E3FC;\n",
              "    }\n",
              "\n",
              "    [theme=dark] .colab-df-convert:hover {\n",
              "      background-color: #434B5C;\n",
              "      box-shadow: 0px 1px 3px 1px rgba(0, 0, 0, 0.15);\n",
              "      filter: drop-shadow(0px 1px 2px rgba(0, 0, 0, 0.3));\n",
              "      fill: #FFFFFF;\n",
              "    }\n",
              "  </style>\n",
              "\n",
              "      <script>\n",
              "        const buttonEl =\n",
              "          document.querySelector('#df-653bf9c6-2f0a-43dd-97cb-9e76dc7d810b button.colab-df-convert');\n",
              "        buttonEl.style.display =\n",
              "          google.colab.kernel.accessAllowed ? 'block' : 'none';\n",
              "\n",
              "        async function convertToInteractive(key) {\n",
              "          const element = document.querySelector('#df-653bf9c6-2f0a-43dd-97cb-9e76dc7d810b');\n",
              "          const dataTable =\n",
              "            await google.colab.kernel.invokeFunction('convertToInteractive',\n",
              "                                                     [key], {});\n",
              "          if (!dataTable) return;\n",
              "\n",
              "          const docLinkHtml = 'Like what you see? Visit the ' +\n",
              "            '<a target=\"_blank\" href=https://colab.research.google.com/notebooks/data_table.ipynb>data table notebook</a>'\n",
              "            + ' to learn more about interactive tables.';\n",
              "          element.innerHTML = '';\n",
              "          dataTable['output_type'] = 'display_data';\n",
              "          await google.colab.output.renderOutput(dataTable, element);\n",
              "          const docLink = document.createElement('div');\n",
              "          docLink.innerHTML = docLinkHtml;\n",
              "          element.appendChild(docLink);\n",
              "        }\n",
              "      </script>\n",
              "    </div>\n",
              "  </div>\n",
              "  "
            ]
          },
          "metadata": {},
          "execution_count": 7
        }
      ]
    },
    {
      "cell_type": "markdown",
      "source": [
        "**the high values showing strong linear relationship between variable**\n",
        "---\n",
        "as positive value showing the variable value will also high if its corresponding values (influencing variable) is high\n",
        "\n",
        "similarly (-ve) value showing the variable value will be low if its corresponding values (influencing variable) is high"
      ],
      "metadata": {
        "id": "xitGuSyAoURT"
      },
      "id": "xitGuSyAoURT"
    },
    {
      "cell_type": "markdown",
      "source": [
        "**plotting correlation data with most advanced python visualization library - Plotly**"
      ],
      "metadata": {
        "id": "FROiggYvsdaU"
      },
      "id": "FROiggYvsdaU"
    },
    {
      "cell_type": "code",
      "source": [
        "fig =  px.imshow(df.corr())\n",
        "fig.show()"
      ],
      "metadata": {
        "colab": {
          "base_uri": "https://localhost:8080/",
          "height": 542
        },
        "id": "q86C_AxwpsUT",
        "outputId": "47c9b4f0-2bc1-4942-a3b5-6cc16968c18c"
      },
      "id": "q86C_AxwpsUT",
      "execution_count": 10,
      "outputs": [
        {
          "output_type": "display_data",
          "data": {
            "text/html": [
              "<html>\n",
              "<head><meta charset=\"utf-8\" /></head>\n",
              "<body>\n",
              "    <div>            <script src=\"https://cdnjs.cloudflare.com/ajax/libs/mathjax/2.7.5/MathJax.js?config=TeX-AMS-MML_SVG\"></script><script type=\"text/javascript\">if (window.MathJax) {MathJax.Hub.Config({SVG: {font: \"STIX-Web\"}});}</script>                <script type=\"text/javascript\">window.PlotlyConfig = {MathJaxConfig: 'local'};</script>\n",
              "        <script src=\"https://cdn.plot.ly/plotly-2.8.3.min.js\"></script>                <div id=\"fe964889-8a08-4b51-9605-c89fcb91ebea\" class=\"plotly-graph-div\" style=\"height:525px; width:100%;\"></div>            <script type=\"text/javascript\">                                    window.PLOTLYENV=window.PLOTLYENV || {};                                    if (document.getElementById(\"fe964889-8a08-4b51-9605-c89fcb91ebea\")) {                    Plotly.newPlot(                        \"fe964889-8a08-4b51-9605-c89fcb91ebea\",                        [{\"coloraxis\":\"coloraxis\",\"name\":\"0\",\"x\":[\"Fe\",\"CaO\",\"SiO2\",\"Phos\",\"MgO\",\"Al2O3\",\"TiO2\",\"K2O\",\"S\",\"BR\",\"TI\",\"RDI\"],\"y\":[\"Fe\",\"CaO\",\"SiO2\",\"Phos\",\"MgO\",\"Al2O3\",\"TiO2\",\"K2O\",\"S\",\"BR\",\"TI\",\"RDI\"],\"z\":[[1.0,-0.8113176046667728,-0.8207309450245707,-0.21009969609366777,-0.5792819329309168,-0.3186720154955852,0.06238345731971406,0.21817073259579303,-0.3335171728701366,-0.3262138198193616,0.30756402697528473,-0.3088971238316143],[-0.8113176046667728,1.0,0.7611536994697706,-0.13082504894320715,0.3042151480979586,-0.12082939709355263,-0.43796224418390645,0.07403447819877176,0.4538128067725615,0.4877929085559791,0.12798967032550515,-0.14401825971165666],[-0.8207309450245707,0.7611536994697706,1.0,-0.09828099541519501,0.5838669516599793,-0.11913660498152592,-0.24620016972165495,-0.03756006019026777,0.3106316151635325,-0.026677175204303412,0.13296194059233957,-0.10372322587673906],[-0.21009969609366777,-0.13082504894320715,-0.09828099541519501,1.0,0.2495627831254231,0.5064952294835084,0.6862854366810207,-0.5976104184883669,-0.18583639105379748,0.1601696102052613,-0.5227890433401718,0.5382792010155313],[-0.5792819329309168,0.3042151480979586,0.5838669516599793,0.2495627831254231,1.0,-0.10907580050379477,0.0025358884217712456,-0.5170510600932595,-0.06325562615395638,0.2985851108678611,0.10817600806135641,-0.04302678550050686],[-0.3186720154955852,-0.12082939709355263,-0.11913660498152592,0.5064952294835084,-0.10907580050379477,1.0,0.5444558295717687,-0.22298427012599908,0.014774143114008147,-0.08433763646240172,-0.9906592540043838,0.95803524208769],[0.06238345731971406,-0.43796224418390645,-0.24620016972165495,0.6862854366810207,0.0025358884217712456,0.5444558295717687,1.0,-0.41070196715963964,-0.25994978795730417,-0.25272529113218084,-0.5592843429602364,0.5399884877720089],[0.21817073259579303,0.07403447819877176,-0.03756006019026777,-0.5976104184883669,-0.5170510600932595,-0.22298427012599908,-0.41070196715963964,1.0,0.2181327066659184,-0.23545323387974174,0.21965010598921653,-0.3138549357354875],[-0.3335171728701366,0.4538128067725615,0.3106316151635325,-0.18583639105379748,-0.06325562615395638,0.014774143114008147,-0.25994978795730417,0.2181327066659184,1.0,0.10841407798752667,0.007931995497521414,-0.05090051659236489],[-0.3262138198193616,0.4877929085559791,-0.026677175204303412,0.1601696102052613,0.2985851108678611,-0.08433763646240172,-0.25272529113218084,-0.23545323387974174,0.10841407798752667,1.0,0.07132603224177861,-0.0911712771445674],[0.30756402697528473,0.12798967032550515,0.13296194059233957,-0.5227890433401718,0.10817600806135641,-0.9906592540043838,-0.5592843429602364,0.21965010598921653,0.007931995497521414,0.07132603224177861,1.0,-0.9413300890132824],[-0.3088971238316143,-0.14401825971165666,-0.10372322587673906,0.5382792010155313,-0.04302678550050686,0.95803524208769,0.5399884877720089,-0.3138549357354875,-0.05090051659236489,-0.0911712771445674,-0.9413300890132824,1.0]],\"type\":\"heatmap\",\"xaxis\":\"x\",\"yaxis\":\"y\",\"hovertemplate\":\"x: %{x}<br>y: %{y}<br>color: %{z}<extra></extra>\"}],                        {\"template\":{\"data\":{\"bar\":[{\"error_x\":{\"color\":\"#2a3f5f\"},\"error_y\":{\"color\":\"#2a3f5f\"},\"marker\":{\"line\":{\"color\":\"#E5ECF6\",\"width\":0.5},\"pattern\":{\"fillmode\":\"overlay\",\"size\":10,\"solidity\":0.2}},\"type\":\"bar\"}],\"barpolar\":[{\"marker\":{\"line\":{\"color\":\"#E5ECF6\",\"width\":0.5},\"pattern\":{\"fillmode\":\"overlay\",\"size\":10,\"solidity\":0.2}},\"type\":\"barpolar\"}],\"carpet\":[{\"aaxis\":{\"endlinecolor\":\"#2a3f5f\",\"gridcolor\":\"white\",\"linecolor\":\"white\",\"minorgridcolor\":\"white\",\"startlinecolor\":\"#2a3f5f\"},\"baxis\":{\"endlinecolor\":\"#2a3f5f\",\"gridcolor\":\"white\",\"linecolor\":\"white\",\"minorgridcolor\":\"white\",\"startlinecolor\":\"#2a3f5f\"},\"type\":\"carpet\"}],\"choropleth\":[{\"colorbar\":{\"outlinewidth\":0,\"ticks\":\"\"},\"type\":\"choropleth\"}],\"contour\":[{\"colorbar\":{\"outlinewidth\":0,\"ticks\":\"\"},\"colorscale\":[[0.0,\"#0d0887\"],[0.1111111111111111,\"#46039f\"],[0.2222222222222222,\"#7201a8\"],[0.3333333333333333,\"#9c179e\"],[0.4444444444444444,\"#bd3786\"],[0.5555555555555556,\"#d8576b\"],[0.6666666666666666,\"#ed7953\"],[0.7777777777777778,\"#fb9f3a\"],[0.8888888888888888,\"#fdca26\"],[1.0,\"#f0f921\"]],\"type\":\"contour\"}],\"contourcarpet\":[{\"colorbar\":{\"outlinewidth\":0,\"ticks\":\"\"},\"type\":\"contourcarpet\"}],\"heatmap\":[{\"colorbar\":{\"outlinewidth\":0,\"ticks\":\"\"},\"colorscale\":[[0.0,\"#0d0887\"],[0.1111111111111111,\"#46039f\"],[0.2222222222222222,\"#7201a8\"],[0.3333333333333333,\"#9c179e\"],[0.4444444444444444,\"#bd3786\"],[0.5555555555555556,\"#d8576b\"],[0.6666666666666666,\"#ed7953\"],[0.7777777777777778,\"#fb9f3a\"],[0.8888888888888888,\"#fdca26\"],[1.0,\"#f0f921\"]],\"type\":\"heatmap\"}],\"heatmapgl\":[{\"colorbar\":{\"outlinewidth\":0,\"ticks\":\"\"},\"colorscale\":[[0.0,\"#0d0887\"],[0.1111111111111111,\"#46039f\"],[0.2222222222222222,\"#7201a8\"],[0.3333333333333333,\"#9c179e\"],[0.4444444444444444,\"#bd3786\"],[0.5555555555555556,\"#d8576b\"],[0.6666666666666666,\"#ed7953\"],[0.7777777777777778,\"#fb9f3a\"],[0.8888888888888888,\"#fdca26\"],[1.0,\"#f0f921\"]],\"type\":\"heatmapgl\"}],\"histogram\":[{\"marker\":{\"pattern\":{\"fillmode\":\"overlay\",\"size\":10,\"solidity\":0.2}},\"type\":\"histogram\"}],\"histogram2d\":[{\"colorbar\":{\"outlinewidth\":0,\"ticks\":\"\"},\"colorscale\":[[0.0,\"#0d0887\"],[0.1111111111111111,\"#46039f\"],[0.2222222222222222,\"#7201a8\"],[0.3333333333333333,\"#9c179e\"],[0.4444444444444444,\"#bd3786\"],[0.5555555555555556,\"#d8576b\"],[0.6666666666666666,\"#ed7953\"],[0.7777777777777778,\"#fb9f3a\"],[0.8888888888888888,\"#fdca26\"],[1.0,\"#f0f921\"]],\"type\":\"histogram2d\"}],\"histogram2dcontour\":[{\"colorbar\":{\"outlinewidth\":0,\"ticks\":\"\"},\"colorscale\":[[0.0,\"#0d0887\"],[0.1111111111111111,\"#46039f\"],[0.2222222222222222,\"#7201a8\"],[0.3333333333333333,\"#9c179e\"],[0.4444444444444444,\"#bd3786\"],[0.5555555555555556,\"#d8576b\"],[0.6666666666666666,\"#ed7953\"],[0.7777777777777778,\"#fb9f3a\"],[0.8888888888888888,\"#fdca26\"],[1.0,\"#f0f921\"]],\"type\":\"histogram2dcontour\"}],\"mesh3d\":[{\"colorbar\":{\"outlinewidth\":0,\"ticks\":\"\"},\"type\":\"mesh3d\"}],\"parcoords\":[{\"line\":{\"colorbar\":{\"outlinewidth\":0,\"ticks\":\"\"}},\"type\":\"parcoords\"}],\"pie\":[{\"automargin\":true,\"type\":\"pie\"}],\"scatter\":[{\"marker\":{\"colorbar\":{\"outlinewidth\":0,\"ticks\":\"\"}},\"type\":\"scatter\"}],\"scatter3d\":[{\"line\":{\"colorbar\":{\"outlinewidth\":0,\"ticks\":\"\"}},\"marker\":{\"colorbar\":{\"outlinewidth\":0,\"ticks\":\"\"}},\"type\":\"scatter3d\"}],\"scattercarpet\":[{\"marker\":{\"colorbar\":{\"outlinewidth\":0,\"ticks\":\"\"}},\"type\":\"scattercarpet\"}],\"scattergeo\":[{\"marker\":{\"colorbar\":{\"outlinewidth\":0,\"ticks\":\"\"}},\"type\":\"scattergeo\"}],\"scattergl\":[{\"marker\":{\"colorbar\":{\"outlinewidth\":0,\"ticks\":\"\"}},\"type\":\"scattergl\"}],\"scattermapbox\":[{\"marker\":{\"colorbar\":{\"outlinewidth\":0,\"ticks\":\"\"}},\"type\":\"scattermapbox\"}],\"scatterpolar\":[{\"marker\":{\"colorbar\":{\"outlinewidth\":0,\"ticks\":\"\"}},\"type\":\"scatterpolar\"}],\"scatterpolargl\":[{\"marker\":{\"colorbar\":{\"outlinewidth\":0,\"ticks\":\"\"}},\"type\":\"scatterpolargl\"}],\"scatterternary\":[{\"marker\":{\"colorbar\":{\"outlinewidth\":0,\"ticks\":\"\"}},\"type\":\"scatterternary\"}],\"surface\":[{\"colorbar\":{\"outlinewidth\":0,\"ticks\":\"\"},\"colorscale\":[[0.0,\"#0d0887\"],[0.1111111111111111,\"#46039f\"],[0.2222222222222222,\"#7201a8\"],[0.3333333333333333,\"#9c179e\"],[0.4444444444444444,\"#bd3786\"],[0.5555555555555556,\"#d8576b\"],[0.6666666666666666,\"#ed7953\"],[0.7777777777777778,\"#fb9f3a\"],[0.8888888888888888,\"#fdca26\"],[1.0,\"#f0f921\"]],\"type\":\"surface\"}],\"table\":[{\"cells\":{\"fill\":{\"color\":\"#EBF0F8\"},\"line\":{\"color\":\"white\"}},\"header\":{\"fill\":{\"color\":\"#C8D4E3\"},\"line\":{\"color\":\"white\"}},\"type\":\"table\"}]},\"layout\":{\"annotationdefaults\":{\"arrowcolor\":\"#2a3f5f\",\"arrowhead\":0,\"arrowwidth\":1},\"autotypenumbers\":\"strict\",\"coloraxis\":{\"colorbar\":{\"outlinewidth\":0,\"ticks\":\"\"}},\"colorscale\":{\"diverging\":[[0,\"#8e0152\"],[0.1,\"#c51b7d\"],[0.2,\"#de77ae\"],[0.3,\"#f1b6da\"],[0.4,\"#fde0ef\"],[0.5,\"#f7f7f7\"],[0.6,\"#e6f5d0\"],[0.7,\"#b8e186\"],[0.8,\"#7fbc41\"],[0.9,\"#4d9221\"],[1,\"#276419\"]],\"sequential\":[[0.0,\"#0d0887\"],[0.1111111111111111,\"#46039f\"],[0.2222222222222222,\"#7201a8\"],[0.3333333333333333,\"#9c179e\"],[0.4444444444444444,\"#bd3786\"],[0.5555555555555556,\"#d8576b\"],[0.6666666666666666,\"#ed7953\"],[0.7777777777777778,\"#fb9f3a\"],[0.8888888888888888,\"#fdca26\"],[1.0,\"#f0f921\"]],\"sequentialminus\":[[0.0,\"#0d0887\"],[0.1111111111111111,\"#46039f\"],[0.2222222222222222,\"#7201a8\"],[0.3333333333333333,\"#9c179e\"],[0.4444444444444444,\"#bd3786\"],[0.5555555555555556,\"#d8576b\"],[0.6666666666666666,\"#ed7953\"],[0.7777777777777778,\"#fb9f3a\"],[0.8888888888888888,\"#fdca26\"],[1.0,\"#f0f921\"]]},\"colorway\":[\"#636efa\",\"#EF553B\",\"#00cc96\",\"#ab63fa\",\"#FFA15A\",\"#19d3f3\",\"#FF6692\",\"#B6E880\",\"#FF97FF\",\"#FECB52\"],\"font\":{\"color\":\"#2a3f5f\"},\"geo\":{\"bgcolor\":\"white\",\"lakecolor\":\"white\",\"landcolor\":\"#E5ECF6\",\"showlakes\":true,\"showland\":true,\"subunitcolor\":\"white\"},\"hoverlabel\":{\"align\":\"left\"},\"hovermode\":\"closest\",\"mapbox\":{\"style\":\"light\"},\"paper_bgcolor\":\"white\",\"plot_bgcolor\":\"#E5ECF6\",\"polar\":{\"angularaxis\":{\"gridcolor\":\"white\",\"linecolor\":\"white\",\"ticks\":\"\"},\"bgcolor\":\"#E5ECF6\",\"radialaxis\":{\"gridcolor\":\"white\",\"linecolor\":\"white\",\"ticks\":\"\"}},\"scene\":{\"xaxis\":{\"backgroundcolor\":\"#E5ECF6\",\"gridcolor\":\"white\",\"gridwidth\":2,\"linecolor\":\"white\",\"showbackground\":true,\"ticks\":\"\",\"zerolinecolor\":\"white\"},\"yaxis\":{\"backgroundcolor\":\"#E5ECF6\",\"gridcolor\":\"white\",\"gridwidth\":2,\"linecolor\":\"white\",\"showbackground\":true,\"ticks\":\"\",\"zerolinecolor\":\"white\"},\"zaxis\":{\"backgroundcolor\":\"#E5ECF6\",\"gridcolor\":\"white\",\"gridwidth\":2,\"linecolor\":\"white\",\"showbackground\":true,\"ticks\":\"\",\"zerolinecolor\":\"white\"}},\"shapedefaults\":{\"line\":{\"color\":\"#2a3f5f\"}},\"ternary\":{\"aaxis\":{\"gridcolor\":\"white\",\"linecolor\":\"white\",\"ticks\":\"\"},\"baxis\":{\"gridcolor\":\"white\",\"linecolor\":\"white\",\"ticks\":\"\"},\"bgcolor\":\"#E5ECF6\",\"caxis\":{\"gridcolor\":\"white\",\"linecolor\":\"white\",\"ticks\":\"\"}},\"title\":{\"x\":0.05},\"xaxis\":{\"automargin\":true,\"gridcolor\":\"white\",\"linecolor\":\"white\",\"ticks\":\"\",\"title\":{\"standoff\":15},\"zerolinecolor\":\"white\",\"zerolinewidth\":2},\"yaxis\":{\"automargin\":true,\"gridcolor\":\"white\",\"linecolor\":\"white\",\"ticks\":\"\",\"title\":{\"standoff\":15},\"zerolinecolor\":\"white\",\"zerolinewidth\":2}}},\"xaxis\":{\"anchor\":\"y\",\"domain\":[0.0,1.0],\"scaleanchor\":\"y\",\"constrain\":\"domain\"},\"yaxis\":{\"anchor\":\"x\",\"domain\":[0.0,1.0],\"autorange\":\"reversed\",\"constrain\":\"domain\"},\"coloraxis\":{\"colorscale\":[[0.0,\"#0d0887\"],[0.1111111111111111,\"#46039f\"],[0.2222222222222222,\"#7201a8\"],[0.3333333333333333,\"#9c179e\"],[0.4444444444444444,\"#bd3786\"],[0.5555555555555556,\"#d8576b\"],[0.6666666666666666,\"#ed7953\"],[0.7777777777777778,\"#fb9f3a\"],[0.8888888888888888,\"#fdca26\"],[1.0,\"#f0f921\"]]},\"margin\":{\"t\":60}},                        {\"responsive\": true}                    ).then(function(){\n",
              "                            \n",
              "var gd = document.getElementById('fe964889-8a08-4b51-9605-c89fcb91ebea');\n",
              "var x = new MutationObserver(function (mutations, observer) {{\n",
              "        var display = window.getComputedStyle(gd).display;\n",
              "        if (!display || display === 'none') {{\n",
              "            console.log([gd, 'removed!']);\n",
              "            Plotly.purge(gd);\n",
              "            observer.disconnect();\n",
              "        }}\n",
              "}});\n",
              "\n",
              "// Listen for the removal of the full notebook cells\n",
              "var notebookContainer = gd.closest('#notebook-container');\n",
              "if (notebookContainer) {{\n",
              "    x.observe(notebookContainer, {childList: true});\n",
              "}}\n",
              "\n",
              "// Listen for the clearing of the current output cell\n",
              "var outputEl = gd.closest('.output');\n",
              "if (outputEl) {{\n",
              "    x.observe(outputEl, {childList: true});\n",
              "}}\n",
              "\n",
              "                        })                };                            </script>        </div>\n",
              "</body>\n",
              "</html>"
            ]
          },
          "metadata": {}
        }
      ]
    },
    {
      "cell_type": "code",
      "source": [
        "fig = px.scatter_matrix(df)\n",
        "fig.update_layout(\n",
        "                  dragmode='select',\n",
        "                  width=1000,\n",
        "                  height=1000,\n",
        "                  hovermode='closest')\n",
        "fig.show()"
      ],
      "metadata": {
        "colab": {
          "base_uri": "https://localhost:8080/",
          "height": 1000
        },
        "id": "_o5cFOutrkz3",
        "outputId": "ebf26c1b-aae4-41a5-ab65-4cc9a7177279"
      },
      "id": "_o5cFOutrkz3",
      "execution_count": 19,
      "outputs": [
        {
          "output_type": "display_data",
          "data": {
            "text/html": [
              "<html>\n",
              "<head><meta charset=\"utf-8\" /></head>\n",
              "<body>\n",
              "    <div>            <script src=\"https://cdnjs.cloudflare.com/ajax/libs/mathjax/2.7.5/MathJax.js?config=TeX-AMS-MML_SVG\"></script><script type=\"text/javascript\">if (window.MathJax) {MathJax.Hub.Config({SVG: {font: \"STIX-Web\"}});}</script>                <script type=\"text/javascript\">window.PlotlyConfig = {MathJaxConfig: 'local'};</script>\n",
              "        <script src=\"https://cdn.plot.ly/plotly-2.8.3.min.js\"></script>                <div id=\"825ea5b4-aa72-4592-be4d-4cc5b3dd7232\" class=\"plotly-graph-div\" style=\"height:1000px; width:1000px;\"></div>            <script type=\"text/javascript\">                                    window.PLOTLYENV=window.PLOTLYENV || {};                                    if (document.getElementById(\"825ea5b4-aa72-4592-be4d-4cc5b3dd7232\")) {                    Plotly.newPlot(                        \"825ea5b4-aa72-4592-be4d-4cc5b3dd7232\",                        [{\"dimensions\":[{\"axis\":{\"matches\":true},\"label\":\"Date\",\"values\":[\"2015-04-01T00:00:00\",\"2015-04-02T00:00:00\",\"2015-04-03T00:00:00\",\"2015-04-04T00:00:00\",\"2015-04-05T00:00:00\",\"2015-04-06T00:00:00\",\"2015-04-07T00:00:00\",\"2015-04-08T00:00:00\",\"2015-04-09T00:00:00\",\"2015-04-10T00:00:00\",\"2015-04-11T00:00:00\",\"2015-04-12T00:00:00\",\"2015-04-13T00:00:00\",\"2015-04-14T00:00:00\",\"2015-04-15T00:00:00\",\"2015-04-16T00:00:00\",\"2015-04-17T00:00:00\",\"2015-04-18T00:00:00\",\"2015-04-19T00:00:00\",\"2015-04-20T00:00:00\",\"2015-04-21T00:00:00\",\"2015-04-22T00:00:00\",\"2015-04-23T00:00:00\",\"2015-04-24T00:00:00\",\"2015-04-25T00:00:00\",\"2015-04-26T00:00:00\",\"2015-04-27T00:00:00\",\"2015-04-28T00:00:00\",\"2015-04-29T00:00:00\",\"2015-04-30T00:00:00\",\"2015-05-01T00:00:00\",\"2015-05-02T00:00:00\",\"2015-05-03T00:00:00\",\"2015-05-04T00:00:00\",\"2015-05-05T00:00:00\",\"2015-05-06T00:00:00\",\"2015-05-07T00:00:00\",\"2015-05-08T00:00:00\",\"2015-05-09T00:00:00\",\"2015-05-10T00:00:00\",\"2015-05-11T00:00:00\",\"2015-05-12T00:00:00\",\"2015-05-13T00:00:00\",\"2015-05-14T00:00:00\",\"2015-05-15T00:00:00\",\"2015-05-16T00:00:00\",\"2015-05-17T00:00:00\",\"2015-05-18T00:00:00\",\"2015-05-19T00:00:00\",\"2015-05-20T00:00:00\"]},{\"axis\":{\"matches\":true},\"label\":\"Fe\",\"values\":[54.39,54.86,53.84,53.35,55.2,54.58,54.27,54.39,52.85,54.57,54.17,53.99,54.27,55.62,54.26,54.81,54.51,54.44,56.14,54.65,54.54,55.07,55.03,56.58,55.66,53.88,54.68,53.93,54.38,55.48,52.37,53.88,54.65,54.94,53.26,55.52,54.6,55.01,54.81,53.42,54.81,55.17,53.56,55.05,52.94,54.18,55.12,55.55,53.8,52.19]},{\"axis\":{\"matches\":true},\"label\":\"CaO\",\"values\":[11.51,11.67,12.01,12.35,11.57,11.47,11.5,11.45,12.67,11.56,12.02,11.85,11.96,10.86,12.67,11.43,12.33,12.33,10.25,12.31,12.24,11.98,11.98,9.98,11.87,12.71,12.14,12.33,12.67,11.6,13.52,12.43,12.24,12.0,12.76,10.91,12.14,12.22,11.85,12.83,12.35,11.15,12.86,12.27,13.33,12.55,12.16,12.33,13.09,13.92]},{\"axis\":{\"matches\":true},\"label\":\"SiO2\",\"values\":[5.76,5.74,5.87,5.96,5.55,5.5,5.44,5.39,5.96,5.4,5.58,5.48,5.53,5.02,5.85,5.24,5.65,5.65,4.69,5.62,5.56,5.44,5.44,4.52,5.37,5.75,5.49,5.56,5.68,5.2,6.06,5.54,5.45,5.34,5.62,4.8,5.33,5.36,5.18,5.57,5.35,4.83,5.56,5.26,5.7,5.36,5.14,5.2,5.49,6.06]},{\"axis\":{\"matches\":true},\"label\":\"Phos\",\"values\":[0.099,0.061,0.113,0.11,0.07,0.11,0.12,0.121,0.102,0.116,0.098,0.088,0.095,0.093,0.082,0.117,0.09,0.09,0.105,0.065,0.09,0.088,0.088,0.102,0.077,0.091,0.1,0.083,0.082,0.073,0.112,0.118,0.09,0.065,0.091,0.124,0.091,0.089,0.085,0.107,0.08,0.105,0.067,0.093,0.12,0.114,0.109,0.079,0.087,0.095]},{\"axis\":{\"matches\":true},\"label\":\"MgO\",\"values\":[2.48,2.16,2.32,1.69,1.01,1.4,1.83,1.63,2.49,1.31,1.72,1.85,1.62,1.07,1.83,2.28,1.74,1.74,1.04,1.39,1.21,1.26,1.26,1.15,0.91,1.33,1.96,1.55,1.83,0.99,1.67,1.42,1.21,1.0,1.81,1.11,1.32,1.7,1.37,1.69,1.43,1.52,1.53,1.27,1.87,1.56,1.27,1.22,1.27,2.02]},{\"axis\":{\"matches\":true},\"label\":\"Al2O3\",\"values\":[2.19,1.79,2.52,3.44,2.63,3.31,3.36,3.48,3.05,3.39,2.97,3.38,3.02,3.24,1.84,2.42,2.07,2.17,3.46,2.27,2.73,2.32,2.37,3.16,1.97,2.89,1.95,3.17,1.84,2.58,3.55,3.28,2.68,2.82,3.41,3.51,2.86,1.83,2.96,3.24,2.28,3.34,3.21,2.22,3.09,2.77,2.3,1.61,2.95,3.12]},{\"axis\":{\"matches\":true},\"label\":\"TiO2\",\"values\":[0.2,0.14,0.18,0.17,0.15,0.18,0.18,0.17,0.16,0.2,0.17,0.15,0.17,0.19,0.14,0.17,0.15,0.15,0.19,0.17,0.16,0.16,0.16,0.19,0.15,0.17,0.15,0.16,0.14,0.15,0.18,0.18,0.16,0.14,0.16,0.18,0.16,0.15,0.16,0.18,0.14,0.17,0.14,0.16,0.16,0.17,0.17,0.14,0.16,0.15]},{\"axis\":{\"matches\":true},\"label\":\"K2O\",\"values\":[0.052,0.067,0.049,0.05,0.15,0.045,0.045,0.055,0.045,0.041,0.05,0.053,0.066,0.062,0.057,0.04,0.072,0.072,0.055,0.098,0.077,0.072,0.072,0.054,0.128,0.077,0.08,0.084,0.057,0.134,0.075,0.047,0.077,0.13,0.047,0.053,0.074,0.045,0.075,0.066,0.061,0.058,0.103,0.07,0.083,0.05,0.102,0.061,0.077,0.051]},{\"axis\":{\"matches\":true},\"label\":\"S\",\"values\":[0.008,0.003,0.017,0.015,0.017,0.015,0.001,0.001,0.02,0.025,0.006,0.021,0.014,0.007,0.02,0.002,0.022,0.022,0.01,0.011,0.015,0.008,0.014,0.011,0.017,0.01,0.01,0.015,0.02,0.021,0.025,0.015,0.015,0.024,0.015,0.001,0.019,0.014,0.015,0.009,0.015,0.017,0.015,0.015,0.018,0.027,0.01,0.007,0.021,0.021]},{\"axis\":{\"matches\":true},\"label\":\"BR\",\"values\":[2.43,2.41,2.44,2.36,2.27,2.34,2.45,2.43,2.54,2.38,2.46,2.5,2.46,2.38,2.48,2.62,2.49,2.49,2.41,2.44,2.42,2.43,2.43,2.46,2.38,2.44,2.57,2.5,2.55,2.42,2.51,2.5,2.47,2.43,2.59,2.5,2.53,2.6,2.55,2.61,2.58,2.62,2.59,2.57,2.67,2.63,2.61,2.61,2.62,2.63]},{\"axis\":{\"matches\":true},\"label\":\"TI\",\"values\":[70.2,73.2,69.5,66.3,69.6,67.1,66.9,66.2,67.9,66.8,68.3,66.7,68.0,67.1,72.6,69.7,71.3,71.6,66.7,71.1,68.9,70.1,69.9,67.7,71.5,68.5,71.9,67.2,72.2,69.3,66.6,67.3,69.1,68.6,66.4,66.1,68.4,72.1,68.1,67.0,70.8,67.0,67.3,70.7,67.6,69.0,70.5,72.8,68.2,67.8]},{\"axis\":{\"matches\":true},\"label\":\"RDI\",\"values\":[24.85,23.3,26.21,36.58,26.34,34.54,34.96,37.89,31.83,35.98,30.2,35.5,31.59,33.6,23.26,25.84,23.8,23.4,37.36,24.2,26.86,25.36,25.62,32.81,23.5,28.35,22.12,32.2,23.9,26.59,40.2,33.92,26.75,27.62,36.12,38.51,27.84,22.12,30.52,33.48,24.52,34.78,32.9,23.1,31.75,27.05,25.12,21.8,28.95,32.6]}],\"hovertemplate\":\"%{xaxis.title.text}=%{x}<br>%{yaxis.title.text}=%{y}<extra></extra>\",\"legendgroup\":\"\",\"marker\":{\"color\":\"#636efa\",\"symbol\":\"circle\"},\"name\":\"\",\"showlegend\":false,\"type\":\"splom\"}],                        {\"template\":{\"data\":{\"bar\":[{\"error_x\":{\"color\":\"#2a3f5f\"},\"error_y\":{\"color\":\"#2a3f5f\"},\"marker\":{\"line\":{\"color\":\"#E5ECF6\",\"width\":0.5},\"pattern\":{\"fillmode\":\"overlay\",\"size\":10,\"solidity\":0.2}},\"type\":\"bar\"}],\"barpolar\":[{\"marker\":{\"line\":{\"color\":\"#E5ECF6\",\"width\":0.5},\"pattern\":{\"fillmode\":\"overlay\",\"size\":10,\"solidity\":0.2}},\"type\":\"barpolar\"}],\"carpet\":[{\"aaxis\":{\"endlinecolor\":\"#2a3f5f\",\"gridcolor\":\"white\",\"linecolor\":\"white\",\"minorgridcolor\":\"white\",\"startlinecolor\":\"#2a3f5f\"},\"baxis\":{\"endlinecolor\":\"#2a3f5f\",\"gridcolor\":\"white\",\"linecolor\":\"white\",\"minorgridcolor\":\"white\",\"startlinecolor\":\"#2a3f5f\"},\"type\":\"carpet\"}],\"choropleth\":[{\"colorbar\":{\"outlinewidth\":0,\"ticks\":\"\"},\"type\":\"choropleth\"}],\"contour\":[{\"colorbar\":{\"outlinewidth\":0,\"ticks\":\"\"},\"colorscale\":[[0.0,\"#0d0887\"],[0.1111111111111111,\"#46039f\"],[0.2222222222222222,\"#7201a8\"],[0.3333333333333333,\"#9c179e\"],[0.4444444444444444,\"#bd3786\"],[0.5555555555555556,\"#d8576b\"],[0.6666666666666666,\"#ed7953\"],[0.7777777777777778,\"#fb9f3a\"],[0.8888888888888888,\"#fdca26\"],[1.0,\"#f0f921\"]],\"type\":\"contour\"}],\"contourcarpet\":[{\"colorbar\":{\"outlinewidth\":0,\"ticks\":\"\"},\"type\":\"contourcarpet\"}],\"heatmap\":[{\"colorbar\":{\"outlinewidth\":0,\"ticks\":\"\"},\"colorscale\":[[0.0,\"#0d0887\"],[0.1111111111111111,\"#46039f\"],[0.2222222222222222,\"#7201a8\"],[0.3333333333333333,\"#9c179e\"],[0.4444444444444444,\"#bd3786\"],[0.5555555555555556,\"#d8576b\"],[0.6666666666666666,\"#ed7953\"],[0.7777777777777778,\"#fb9f3a\"],[0.8888888888888888,\"#fdca26\"],[1.0,\"#f0f921\"]],\"type\":\"heatmap\"}],\"heatmapgl\":[{\"colorbar\":{\"outlinewidth\":0,\"ticks\":\"\"},\"colorscale\":[[0.0,\"#0d0887\"],[0.1111111111111111,\"#46039f\"],[0.2222222222222222,\"#7201a8\"],[0.3333333333333333,\"#9c179e\"],[0.4444444444444444,\"#bd3786\"],[0.5555555555555556,\"#d8576b\"],[0.6666666666666666,\"#ed7953\"],[0.7777777777777778,\"#fb9f3a\"],[0.8888888888888888,\"#fdca26\"],[1.0,\"#f0f921\"]],\"type\":\"heatmapgl\"}],\"histogram\":[{\"marker\":{\"pattern\":{\"fillmode\":\"overlay\",\"size\":10,\"solidity\":0.2}},\"type\":\"histogram\"}],\"histogram2d\":[{\"colorbar\":{\"outlinewidth\":0,\"ticks\":\"\"},\"colorscale\":[[0.0,\"#0d0887\"],[0.1111111111111111,\"#46039f\"],[0.2222222222222222,\"#7201a8\"],[0.3333333333333333,\"#9c179e\"],[0.4444444444444444,\"#bd3786\"],[0.5555555555555556,\"#d8576b\"],[0.6666666666666666,\"#ed7953\"],[0.7777777777777778,\"#fb9f3a\"],[0.8888888888888888,\"#fdca26\"],[1.0,\"#f0f921\"]],\"type\":\"histogram2d\"}],\"histogram2dcontour\":[{\"colorbar\":{\"outlinewidth\":0,\"ticks\":\"\"},\"colorscale\":[[0.0,\"#0d0887\"],[0.1111111111111111,\"#46039f\"],[0.2222222222222222,\"#7201a8\"],[0.3333333333333333,\"#9c179e\"],[0.4444444444444444,\"#bd3786\"],[0.5555555555555556,\"#d8576b\"],[0.6666666666666666,\"#ed7953\"],[0.7777777777777778,\"#fb9f3a\"],[0.8888888888888888,\"#fdca26\"],[1.0,\"#f0f921\"]],\"type\":\"histogram2dcontour\"}],\"mesh3d\":[{\"colorbar\":{\"outlinewidth\":0,\"ticks\":\"\"},\"type\":\"mesh3d\"}],\"parcoords\":[{\"line\":{\"colorbar\":{\"outlinewidth\":0,\"ticks\":\"\"}},\"type\":\"parcoords\"}],\"pie\":[{\"automargin\":true,\"type\":\"pie\"}],\"scatter\":[{\"marker\":{\"colorbar\":{\"outlinewidth\":0,\"ticks\":\"\"}},\"type\":\"scatter\"}],\"scatter3d\":[{\"line\":{\"colorbar\":{\"outlinewidth\":0,\"ticks\":\"\"}},\"marker\":{\"colorbar\":{\"outlinewidth\":0,\"ticks\":\"\"}},\"type\":\"scatter3d\"}],\"scattercarpet\":[{\"marker\":{\"colorbar\":{\"outlinewidth\":0,\"ticks\":\"\"}},\"type\":\"scattercarpet\"}],\"scattergeo\":[{\"marker\":{\"colorbar\":{\"outlinewidth\":0,\"ticks\":\"\"}},\"type\":\"scattergeo\"}],\"scattergl\":[{\"marker\":{\"colorbar\":{\"outlinewidth\":0,\"ticks\":\"\"}},\"type\":\"scattergl\"}],\"scattermapbox\":[{\"marker\":{\"colorbar\":{\"outlinewidth\":0,\"ticks\":\"\"}},\"type\":\"scattermapbox\"}],\"scatterpolar\":[{\"marker\":{\"colorbar\":{\"outlinewidth\":0,\"ticks\":\"\"}},\"type\":\"scatterpolar\"}],\"scatterpolargl\":[{\"marker\":{\"colorbar\":{\"outlinewidth\":0,\"ticks\":\"\"}},\"type\":\"scatterpolargl\"}],\"scatterternary\":[{\"marker\":{\"colorbar\":{\"outlinewidth\":0,\"ticks\":\"\"}},\"type\":\"scatterternary\"}],\"surface\":[{\"colorbar\":{\"outlinewidth\":0,\"ticks\":\"\"},\"colorscale\":[[0.0,\"#0d0887\"],[0.1111111111111111,\"#46039f\"],[0.2222222222222222,\"#7201a8\"],[0.3333333333333333,\"#9c179e\"],[0.4444444444444444,\"#bd3786\"],[0.5555555555555556,\"#d8576b\"],[0.6666666666666666,\"#ed7953\"],[0.7777777777777778,\"#fb9f3a\"],[0.8888888888888888,\"#fdca26\"],[1.0,\"#f0f921\"]],\"type\":\"surface\"}],\"table\":[{\"cells\":{\"fill\":{\"color\":\"#EBF0F8\"},\"line\":{\"color\":\"white\"}},\"header\":{\"fill\":{\"color\":\"#C8D4E3\"},\"line\":{\"color\":\"white\"}},\"type\":\"table\"}]},\"layout\":{\"annotationdefaults\":{\"arrowcolor\":\"#2a3f5f\",\"arrowhead\":0,\"arrowwidth\":1},\"autotypenumbers\":\"strict\",\"coloraxis\":{\"colorbar\":{\"outlinewidth\":0,\"ticks\":\"\"}},\"colorscale\":{\"diverging\":[[0,\"#8e0152\"],[0.1,\"#c51b7d\"],[0.2,\"#de77ae\"],[0.3,\"#f1b6da\"],[0.4,\"#fde0ef\"],[0.5,\"#f7f7f7\"],[0.6,\"#e6f5d0\"],[0.7,\"#b8e186\"],[0.8,\"#7fbc41\"],[0.9,\"#4d9221\"],[1,\"#276419\"]],\"sequential\":[[0.0,\"#0d0887\"],[0.1111111111111111,\"#46039f\"],[0.2222222222222222,\"#7201a8\"],[0.3333333333333333,\"#9c179e\"],[0.4444444444444444,\"#bd3786\"],[0.5555555555555556,\"#d8576b\"],[0.6666666666666666,\"#ed7953\"],[0.7777777777777778,\"#fb9f3a\"],[0.8888888888888888,\"#fdca26\"],[1.0,\"#f0f921\"]],\"sequentialminus\":[[0.0,\"#0d0887\"],[0.1111111111111111,\"#46039f\"],[0.2222222222222222,\"#7201a8\"],[0.3333333333333333,\"#9c179e\"],[0.4444444444444444,\"#bd3786\"],[0.5555555555555556,\"#d8576b\"],[0.6666666666666666,\"#ed7953\"],[0.7777777777777778,\"#fb9f3a\"],[0.8888888888888888,\"#fdca26\"],[1.0,\"#f0f921\"]]},\"colorway\":[\"#636efa\",\"#EF553B\",\"#00cc96\",\"#ab63fa\",\"#FFA15A\",\"#19d3f3\",\"#FF6692\",\"#B6E880\",\"#FF97FF\",\"#FECB52\"],\"font\":{\"color\":\"#2a3f5f\"},\"geo\":{\"bgcolor\":\"white\",\"lakecolor\":\"white\",\"landcolor\":\"#E5ECF6\",\"showlakes\":true,\"showland\":true,\"subunitcolor\":\"white\"},\"hoverlabel\":{\"align\":\"left\"},\"hovermode\":\"closest\",\"mapbox\":{\"style\":\"light\"},\"paper_bgcolor\":\"white\",\"plot_bgcolor\":\"#E5ECF6\",\"polar\":{\"angularaxis\":{\"gridcolor\":\"white\",\"linecolor\":\"white\",\"ticks\":\"\"},\"bgcolor\":\"#E5ECF6\",\"radialaxis\":{\"gridcolor\":\"white\",\"linecolor\":\"white\",\"ticks\":\"\"}},\"scene\":{\"xaxis\":{\"backgroundcolor\":\"#E5ECF6\",\"gridcolor\":\"white\",\"gridwidth\":2,\"linecolor\":\"white\",\"showbackground\":true,\"ticks\":\"\",\"zerolinecolor\":\"white\"},\"yaxis\":{\"backgroundcolor\":\"#E5ECF6\",\"gridcolor\":\"white\",\"gridwidth\":2,\"linecolor\":\"white\",\"showbackground\":true,\"ticks\":\"\",\"zerolinecolor\":\"white\"},\"zaxis\":{\"backgroundcolor\":\"#E5ECF6\",\"gridcolor\":\"white\",\"gridwidth\":2,\"linecolor\":\"white\",\"showbackground\":true,\"ticks\":\"\",\"zerolinecolor\":\"white\"}},\"shapedefaults\":{\"line\":{\"color\":\"#2a3f5f\"}},\"ternary\":{\"aaxis\":{\"gridcolor\":\"white\",\"linecolor\":\"white\",\"ticks\":\"\"},\"baxis\":{\"gridcolor\":\"white\",\"linecolor\":\"white\",\"ticks\":\"\"},\"bgcolor\":\"#E5ECF6\",\"caxis\":{\"gridcolor\":\"white\",\"linecolor\":\"white\",\"ticks\":\"\"}},\"title\":{\"x\":0.05},\"xaxis\":{\"automargin\":true,\"gridcolor\":\"white\",\"linecolor\":\"white\",\"ticks\":\"\",\"title\":{\"standoff\":15},\"zerolinecolor\":\"white\",\"zerolinewidth\":2},\"yaxis\":{\"automargin\":true,\"gridcolor\":\"white\",\"linecolor\":\"white\",\"ticks\":\"\",\"title\":{\"standoff\":15},\"zerolinecolor\":\"white\",\"zerolinewidth\":2}}},\"legend\":{\"tracegroupgap\":0},\"margin\":{\"t\":60},\"dragmode\":\"select\",\"width\":1000,\"height\":1000,\"hovermode\":\"closest\"},                        {\"responsive\": true}                    ).then(function(){\n",
              "                            \n",
              "var gd = document.getElementById('825ea5b4-aa72-4592-be4d-4cc5b3dd7232');\n",
              "var x = new MutationObserver(function (mutations, observer) {{\n",
              "        var display = window.getComputedStyle(gd).display;\n",
              "        if (!display || display === 'none') {{\n",
              "            console.log([gd, 'removed!']);\n",
              "            Plotly.purge(gd);\n",
              "            observer.disconnect();\n",
              "        }}\n",
              "}});\n",
              "\n",
              "// Listen for the removal of the full notebook cells\n",
              "var notebookContainer = gd.closest('#notebook-container');\n",
              "if (notebookContainer) {{\n",
              "    x.observe(notebookContainer, {childList: true});\n",
              "}}\n",
              "\n",
              "// Listen for the clearing of the current output cell\n",
              "var outputEl = gd.closest('.output');\n",
              "if (outputEl) {{\n",
              "    x.observe(outputEl, {childList: true});\n",
              "}}\n",
              "\n",
              "                        })                };                            </script>        </div>\n",
              "</body>\n",
              "</html>"
            ]
          },
          "metadata": {}
        }
      ]
    },
    {
      "cell_type": "markdown",
      "source": [
        "##### For simplicity let's see the top features affecting RDI\n",
        "\n",
        "since we found out that Al2O3 affecting the RDI most"
      ],
      "metadata": {
        "id": "HyPqLqooss1d"
      },
      "id": "HyPqLqooss1d"
    },
    {
      "cell_type": "code",
      "source": [
        "df.corr()['RDI'].sort_values(ascending=False)"
      ],
      "metadata": {
        "colab": {
          "base_uri": "https://localhost:8080/"
        },
        "id": "V2VR-44avn1b",
        "outputId": "f431a75f-13e3-4f12-94c5-d62283eed725"
      },
      "id": "V2VR-44avn1b",
      "execution_count": 30,
      "outputs": [
        {
          "output_type": "execute_result",
          "data": {
            "text/plain": [
              "RDI      1.000000\n",
              "Al2O3    0.958035\n",
              "TiO2     0.539988\n",
              "Phos     0.538279\n",
              "MgO     -0.043027\n",
              "S       -0.050901\n",
              "BR      -0.091171\n",
              "SiO2    -0.103723\n",
              "CaO     -0.144018\n",
              "Fe      -0.308897\n",
              "K2O     -0.313855\n",
              "TI      -0.941330\n",
              "Name: RDI, dtype: float64"
            ]
          },
          "metadata": {},
          "execution_count": 30
        }
      ]
    },
    {
      "cell_type": "markdown",
      "source": [
        "TI is also affecting but since it is label we ignore it here"
      ],
      "metadata": {
        "id": "qrmjiyWuxTaI"
      },
      "id": "qrmjiyWuxTaI"
    },
    {
      "cell_type": "code",
      "execution_count": 18,
      "id": "23070bc3",
      "metadata": {
        "scrolled": false,
        "colab": {
          "base_uri": "https://localhost:8080/",
          "height": 282
        },
        "id": "23070bc3",
        "outputId": "857de477-d996-4e37-8b8f-18006e139e8e"
      },
      "outputs": [
        {
          "output_type": "stream",
          "name": "stderr",
          "text": [
            "WARNING:matplotlib.legend:No handles with labels found to put in legend.\n"
          ]
        },
        {
          "output_type": "display_data",
          "data": {
            "text/plain": [
              "<Figure size 432x288 with 1 Axes>"
            ],
            "image/png": "[encoded data removed]"
          },
          "metadata": {
            "needs_background": "light"
          }
        }
      ],
      "source": [
        "#visualizing the day-wise  distribution of RDI \n",
        "plt.plot(df['RDI'],color = 'g')\n",
        "plt.show()"
      ]
    },
    {
      "cell_type": "code",
      "execution_count": 21,
      "id": "e6cc923b",
      "metadata": {
        "colab": {
          "base_uri": "https://localhost:8080/",
          "height": 282
        },
        "id": "e6cc923b",
        "outputId": "0b3d1179-c86c-4835-aadc-fcc5d9d768c0"
      },
      "outputs": [
        {
          "output_type": "execute_result",
          "data": {
            "text/plain": [
              "[<matplotlib.lines.Line2D at 0x7f87f16607d0>]"
            ]
          },
          "metadata": {},
          "execution_count": 21
        },
        {
          "output_type": "display_data",
          "data": {
            "text/plain": [
              "<Figure size 432x288 with 1 Axes>"
            ],
            "image/png": "[encoded data removed]"
          },
          "metadata": {
            "needs_background": "light"
          }
        }
      ],
      "source": [
        "\n",
        "plt.plot(df['Al2O3'],color = 'r')\n",
        "# we can see that RDI following similar trend as Al2O3"
      ]
    },
    {
      "cell_type": "code",
      "source": [
        "df['RDI'].describe()"
      ],
      "metadata": {
        "colab": {
          "base_uri": "https://localhost:8080/"
        },
        "id": "cClrKINXx0rf",
        "outputId": "aa7bfd03-fc11-4be6-f792-110df8ff013c"
      },
      "id": "cClrKINXx0rf",
      "execution_count": 37,
      "outputs": [
        {
          "output_type": "execute_result",
          "data": {
            "text/plain": [
              "count    50.000000\n",
              "mean     29.363800\n",
              "std       5.171686\n",
              "min      21.800000\n",
              "25%      24.917500\n",
              "50%      28.095000\n",
              "75%      33.570000\n",
              "max      40.200000\n",
              "Name: RDI, dtype: float64"
            ]
          },
          "metadata": {},
          "execution_count": 37
        }
      ]
    },
    {
      "cell_type": "markdown",
      "id": "2d6be1c0",
      "metadata": {
        "id": "2d6be1c0"
      },
      "source": [
        "##### similarly doing with other other labels we'll identify most influencing factor for each "
      ]
    },
    {
      "cell_type": "code",
      "source": [
        "df.corr()['BR'].sort_values(ascending=False)"
      ],
      "metadata": {
        "colab": {
          "base_uri": "https://localhost:8080/"
        },
        "id": "E9_Quz-kxeKt",
        "outputId": "a8796336-28b3-4df5-b052-8a1170f7b04a"
      },
      "id": "E9_Quz-kxeKt",
      "execution_count": 34,
      "outputs": [
        {
          "output_type": "execute_result",
          "data": {
            "text/plain": [
              "BR       1.000000\n",
              "CaO      0.487793\n",
              "MgO      0.298585\n",
              "Phos     0.160170\n",
              "S        0.108414\n",
              "TI       0.071326\n",
              "SiO2    -0.026677\n",
              "Al2O3   -0.084338\n",
              "RDI     -0.091171\n",
              "K2O     -0.235453\n",
              "TiO2    -0.252725\n",
              "Fe      -0.326214\n",
              "Name: BR, dtype: float64"
            ]
          },
          "metadata": {},
          "execution_count": 34
        }
      ]
    },
    {
      "cell_type": "code",
      "execution_count": 25,
      "id": "c5ba224d",
      "metadata": {
        "colab": {
          "base_uri": "https://localhost:8080/",
          "height": 282
        },
        "id": "c5ba224d",
        "outputId": "5a418cdc-eb35-4849-c081-367cbd68d525"
      },
      "outputs": [
        {
          "output_type": "execute_result",
          "data": {
            "text/plain": [
              "<matplotlib.axes._subplots.AxesSubplot at 0x7f87f1486890>"
            ]
          },
          "metadata": {},
          "execution_count": 25
        },
        {
          "output_type": "display_data",
          "data": {
            "text/plain": [
              "<Figure size 432x288 with 1 Axes>"
            ],
            "image/png": "[encoded data removed]"
          },
          "metadata": {
            "needs_background": "light"
          }
        }
      ],
      "source": [
        "df['BR'].plot()"
      ]
    },
    {
      "cell_type": "code",
      "execution_count": 35,
      "id": "9cdcc002",
      "metadata": {
        "colab": {
          "base_uri": "https://localhost:8080/",
          "height": 282
        },
        "id": "9cdcc002",
        "outputId": "a15c06b5-2802-4a26-baf9-a979f9775b7f"
      },
      "outputs": [
        {
          "output_type": "execute_result",
          "data": {
            "text/plain": [
              "<matplotlib.axes._subplots.AxesSubplot at 0x7f87f13b1890>"
            ]
          },
          "metadata": {},
          "execution_count": 35
        },
        {
          "output_type": "display_data",
          "data": {
            "text/plain": [
              "<Figure size 432x288 with 1 Axes>"
            ],
            "image/png": "[encoded data removed]"
          },
          "metadata": {
            "needs_background": "light"
          }
        }
      ],
      "source": [
        "df['CaO'].plot(color = 'g')"
      ]
    },
    {
      "cell_type": "markdown",
      "source": [
        "**Now see the statistical description of RDI values**"
      ],
      "metadata": {
        "id": "yqUq6-1hwP-3"
      },
      "id": "yqUq6-1hwP-3"
    },
    {
      "cell_type": "code",
      "execution_count": 31,
      "id": "da1acbde",
      "metadata": {
        "colab": {
          "base_uri": "https://localhost:8080/"
        },
        "id": "da1acbde",
        "outputId": "a31424c3-3fc8-4f65-c2f9-eab17074b02d"
      },
      "outputs": [
        {
          "output_type": "execute_result",
          "data": {
            "text/plain": [
              "count    50.000000\n",
              "mean      2.496000\n",
              "std       0.091003\n",
              "min       2.270000\n",
              "25%       2.430000\n",
              "50%       2.490000\n",
              "75%       2.577500\n",
              "max       2.670000\n",
              "Name: BR, dtype: float64"
            ]
          },
          "metadata": {},
          "execution_count": 31
        }
      ],
      "source": [
        "df['BR'].describe()"
      ]
    },
    {
      "cell_type": "code",
      "execution_count": 32,
      "id": "0d9c3f9f",
      "metadata": {
        "colab": {
          "base_uri": "https://localhost:8080/",
          "height": 206
        },
        "id": "0d9c3f9f",
        "outputId": "bdffcd2f-7de1-4789-8009-1ff6d23d7f6a"
      },
      "outputs": [
        {
          "output_type": "execute_result",
          "data": {
            "text/plain": [
              "        Date     Fe    CaO  SiO2   Phos   MgO  Al2O3  TiO2    K2O      S  \\\n",
              "0 2015-04-01  54.39  11.51  5.76  0.099  2.48   2.19  0.20  0.052  0.008   \n",
              "1 2015-04-02  54.86  11.67  5.74  0.061  2.16   1.79  0.14  0.067  0.003   \n",
              "2 2015-04-03  53.84  12.01  5.87  0.113  2.32   2.52  0.18  0.049  0.017   \n",
              "3 2015-04-04  53.35  12.35  5.96  0.110  1.69   3.44  0.17  0.050  0.015   \n",
              "4 2015-04-05  55.20  11.57  5.55  0.070  1.01   2.63  0.15  0.150  0.017   \n",
              "\n",
              "     BR    TI    RDI  \n",
              "0  2.43  70.2  24.85  \n",
              "1  2.41  73.2  23.30  \n",
              "2  2.44  69.5  26.21  \n",
              "3  2.36  66.3  36.58  \n",
              "4  2.27  69.6  26.34  "
            ],
            "text/html": [
              "\n",
              "  <div id=\"df-52b27798-b716-494b-856a-2c8a88f67a8a\">\n",
              "    <div class=\"colab-df-container\">\n",
              "      <div>\n",
              "<style scoped>\n",
              "    .dataframe tbody tr th:only-of-type {\n",
              "        vertical-align: middle;\n",
              "    }\n",
              "\n",
              "    .dataframe tbody tr th {\n",
              "        vertical-align: top;\n",
              "    }\n",
              "\n",
              "    .dataframe thead th {\n",
              "        text-align: right;\n",
              "    }\n",
              "</style>\n",
              "<table border=\"1\" class=\"dataframe\">\n",
              "  <thead>\n",
              "    <tr style=\"text-align: right;\">\n",
              "      <th></th>\n",
              "      <th>Date</th>\n",
              "      <th>Fe</th>\n",
              "      <th>CaO</th>\n",
              "      <th>SiO2</th>\n",
              "      <th>Phos</th>\n",
              "      <th>MgO</th>\n",
              "      <th>Al2O3</th>\n",
              "      <th>TiO2</th>\n",
              "      <th>K2O</th>\n",
              "      <th>S</th>\n",
              "      <th>BR</th>\n",
              "      <th>TI</th>\n",
              "      <th>RDI</th>\n",
              "    </tr>\n",
              "  </thead>\n",
              "  <tbody>\n",
              "    <tr>\n",
              "      <th>0</th>\n",
              "      <td>2015-04-01</td>\n",
              "      <td>54.39</td>\n",
              "      <td>11.51</td>\n",
              "      <td>5.76</td>\n",
              "      <td>0.099</td>\n",
              "      <td>2.48</td>\n",
              "      <td>2.19</td>\n",
              "      <td>0.20</td>\n",
              "      <td>0.052</td>\n",
              "      <td>0.008</td>\n",
              "      <td>2.43</td>\n",
              "      <td>70.2</td>\n",
              "      <td>24.85</td>\n",
              "    </tr>\n",
              "    <tr>\n",
              "      <th>1</th>\n",
              "      <td>2015-04-02</td>\n",
              "      <td>54.86</td>\n",
              "      <td>11.67</td>\n",
              "      <td>5.74</td>\n",
              "      <td>0.061</td>\n",
              "      <td>2.16</td>\n",
              "      <td>1.79</td>\n",
              "      <td>0.14</td>\n",
              "      <td>0.067</td>\n",
              "      <td>0.003</td>\n",
              "      <td>2.41</td>\n",
              "      <td>73.2</td>\n",
              "      <td>23.30</td>\n",
              "    </tr>\n",
              "    <tr>\n",
              "      <th>2</th>\n",
              "      <td>2015-04-03</td>\n",
              "      <td>53.84</td>\n",
              "      <td>12.01</td>\n",
              "      <td>5.87</td>\n",
              "      <td>0.113</td>\n",
              "      <td>2.32</td>\n",
              "      <td>2.52</td>\n",
              "      <td>0.18</td>\n",
              "      <td>0.049</td>\n",
              "      <td>0.017</td>\n",
              "      <td>2.44</td>\n",
              "      <td>69.5</td>\n",
              "      <td>26.21</td>\n",
              "    </tr>\n",
              "    <tr>\n",
              "      <th>3</th>\n",
              "      <td>2015-04-04</td>\n",
              "      <td>53.35</td>\n",
              "      <td>12.35</td>\n",
              "      <td>5.96</td>\n",
              "      <td>0.110</td>\n",
              "      <td>1.69</td>\n",
              "      <td>3.44</td>\n",
              "      <td>0.17</td>\n",
              "      <td>0.050</td>\n",
              "      <td>0.015</td>\n",
              "      <td>2.36</td>\n",
              "      <td>66.3</td>\n",
              "      <td>36.58</td>\n",
              "    </tr>\n",
              "    <tr>\n",
              "      <th>4</th>\n",
              "      <td>2015-04-05</td>\n",
              "      <td>55.20</td>\n",
              "      <td>11.57</td>\n",
              "      <td>5.55</td>\n",
              "      <td>0.070</td>\n",
              "      <td>1.01</td>\n",
              "      <td>2.63</td>\n",
              "      <td>0.15</td>\n",
              "      <td>0.150</td>\n",
              "      <td>0.017</td>\n",
              "      <td>2.27</td>\n",
              "      <td>69.6</td>\n",
              "      <td>26.34</td>\n",
              "    </tr>\n",
              "  </tbody>\n",
              "</table>\n",
              "</div>\n",
              "      <button class=\"colab-df-convert\" onclick=\"convertToInteractive('df-52b27798-b716-494b-856a-2c8a88f67a8a')\"\n",
              "              title=\"Convert this dataframe to an interactive table.\"\n",
              "              style=\"display:none;\">\n",
              "        \n",
              "  <svg xmlns=\"http://www.w3.org/2000/svg\" height=\"24px\"viewBox=\"0 0 24 24\"\n",
              "       width=\"24px\">\n",
              "    <path d=\"M0 0h24v24H0V0z\" fill=\"none\"/>\n",
              "    <path d=\"M18.56 5.44l.94 2.06.94-2.06 2.06-.94-2.06-.94-.94-2.06-.94 2.06-2.06.94zm-11 1L8.5 8.5l.94-2.06 2.06-.94-2.06-.94L8.5 2.5l-.94 2.06-2.06.94zm10 10l.94 2.06.94-2.06 2.06-.94-2.06-.94-.94-2.06-.94 2.06-2.06.94z\"/><path d=\"M17.41 7.96l-1.37-1.37c-.4-.4-.92-.59-1.43-.59-.52 0-1.04.2-1.43.59L10.3 9.45l-7.72 7.72c-.78.78-.78 2.05 0 2.83L4 21.41c.39.39.9.59 1.41.59.51 0 1.02-.2 1.41-.59l7.78-7.78 2.81-2.81c.8-.78.8-2.07 0-2.86zM5.41 20L4 18.59l7.72-7.72 1.47 1.35L5.41 20z\"/>\n",
              "  </svg>\n",
              "      </button>\n",
              "      \n",
              "  <style>\n",
              "    .colab-df-container {\n",
              "      display:flex;\n",
              "      flex-wrap:wrap;\n",
              "      gap: 12px;\n",
              "    }\n",
              "\n",
              "    .colab-df-convert {\n",
              "      background-color: #E8F0FE;\n",
              "      border: none;\n",
              "      border-radius: 50%;\n",
              "      cursor: pointer;\n",
              "      display: none;\n",
              "      fill: #1967D2;\n",
              "      height: 32px;\n",
              "      padding: 0 0 0 0;\n",
              "      width: 32px;\n",
              "    }\n",
              "\n",
              "    .colab-df-convert:hover {\n",
              "      background-color: #E2EBFA;\n",
              "      box-shadow: 0px 1px 2px rgba(60, 64, 67, 0.3), 0px 1px 3px 1px rgba(60, 64, 67, 0.15);\n",
              "      fill: #174EA6;\n",
              "    }\n",
              "\n",
              "    [theme=dark] .colab-df-convert {\n",
              "      background-color: #3B4455;\n",
              "      fill: #D2E3FC;\n",
              "    }\n",
              "\n",
              "    [theme=dark] .colab-df-convert:hover {\n",
              "      background-color: #434B5C;\n",
              "      box-shadow: 0px 1px 3px 1px rgba(0, 0, 0, 0.15);\n",
              "      filter: drop-shadow(0px 1px 2px rgba(0, 0, 0, 0.3));\n",
              "      fill: #FFFFFF;\n",
              "    }\n",
              "  </style>\n",
              "\n",
              "      <script>\n",
              "        const buttonEl =\n",
              "          document.querySelector('#df-52b27798-b716-494b-856a-2c8a88f67a8a button.colab-df-convert');\n",
              "        buttonEl.style.display =\n",
              "          google.colab.kernel.accessAllowed ? 'block' : 'none';\n",
              "\n",
              "        async function convertToInteractive(key) {\n",
              "          const element = document.querySelector('#df-52b27798-b716-494b-856a-2c8a88f67a8a');\n",
              "          const dataTable =\n",
              "            await google.colab.kernel.invokeFunction('convertToInteractive',\n",
              "                                                     [key], {});\n",
              "          if (!dataTable) return;\n",
              "\n",
              "          const docLinkHtml = 'Like what you see? Visit the ' +\n",
              "            '<a target=\"_blank\" href=https://colab.research.google.com/notebooks/data_table.ipynb>data table notebook</a>'\n",
              "            + ' to learn more about interactive tables.';\n",
              "          element.innerHTML = '';\n",
              "          dataTable['output_type'] = 'display_data';\n",
              "          await google.colab.output.renderOutput(dataTable, element);\n",
              "          const docLink = document.createElement('div');\n",
              "          docLink.innerHTML = docLinkHtml;\n",
              "          element.appendChild(docLink);\n",
              "        }\n",
              "      </script>\n",
              "    </div>\n",
              "  </div>\n",
              "  "
            ]
          },
          "metadata": {},
          "execution_count": 32
        }
      ],
      "source": [
        "df.head()"
      ]
    },
    {
      "cell_type": "code",
      "source": [
        "df.corr()['TI'].sort_values(ascending=False)"
      ],
      "metadata": {
        "colab": {
          "base_uri": "https://localhost:8080/"
        },
        "id": "M7pa_oGXx_vv",
        "outputId": "2f4a06c1-e150-4d1a-c2fe-2889a4004341"
      },
      "id": "M7pa_oGXx_vv",
      "execution_count": 39,
      "outputs": [
        {
          "output_type": "execute_result",
          "data": {
            "text/plain": [
              "TI       1.000000\n",
              "Fe       0.307564\n",
              "K2O      0.219650\n",
              "SiO2     0.132962\n",
              "CaO      0.127990\n",
              "MgO      0.108176\n",
              "BR       0.071326\n",
              "S        0.007932\n",
              "Phos    -0.522789\n",
              "TiO2    -0.559284\n",
              "RDI     -0.941330\n",
              "Al2O3   -0.990659\n",
              "Name: TI, dtype: float64"
            ]
          },
          "metadata": {},
          "execution_count": 39
        }
      ]
    },
    {
      "cell_type": "code",
      "source": [
        "df['TI'].plot(color = 'm')"
      ],
      "metadata": {
        "colab": {
          "base_uri": "https://localhost:8080/",
          "height": 282
        },
        "id": "MCifCbdnyQqm",
        "outputId": "914f5dfc-b0c4-4f9c-e322-1e8d31285e5f"
      },
      "id": "MCifCbdnyQqm",
      "execution_count": 41,
      "outputs": [
        {
          "output_type": "execute_result",
          "data": {
            "text/plain": [
              "<matplotlib.axes._subplots.AxesSubplot at 0x7f87eea61990>"
            ]
          },
          "metadata": {},
          "execution_count": 41
        },
        {
          "output_type": "display_data",
          "data": {
            "text/plain": [
              "<Figure size 432x288 with 1 Axes>"
            ],
            "image/png": "[encoded data removed]"
          },
          "metadata": {
            "needs_background": "light"
          }
        }
      ]
    },
    {
      "cell_type": "code",
      "source": [
        "df['Al2O3'].plot()"
      ],
      "metadata": {
        "colab": {
          "base_uri": "https://localhost:8080/",
          "height": 282
        },
        "id": "OAGbwpiNyfWX",
        "outputId": "ab097ebf-39c1-41eb-9619-472686561b6b"
      },
      "id": "OAGbwpiNyfWX",
      "execution_count": 43,
      "outputs": [
        {
          "output_type": "execute_result",
          "data": {
            "text/plain": [
              "<matplotlib.axes._subplots.AxesSubplot at 0x7f87ee9bdb90>"
            ]
          },
          "metadata": {},
          "execution_count": 43
        },
        {
          "output_type": "display_data",
          "data": {
            "text/plain": [
              "<Figure size 432x288 with 1 Axes>"
            ],
            "image/png": "[encoded data removed]"
          },
          "metadata": {
            "needs_background": "light"
          }
        }
      ]
    },
    {
      "cell_type": "markdown",
      "source": [
        "**Al2O3 inversely propotional to TI**"
      ],
      "metadata": {
        "id": "k-t3VFytyodm"
      },
      "id": "k-t3VFytyodm"
    },
    {
      "cell_type": "code",
      "execution_count": 33,
      "id": "61dce821",
      "metadata": {
        "colab": {
          "base_uri": "https://localhost:8080/"
        },
        "id": "61dce821",
        "outputId": "d603a0e3-b1b6-4115-efc0-f62e5f25b2da"
      },
      "outputs": [
        {
          "output_type": "execute_result",
          "data": {
            "text/plain": [
              "count    50.000000\n",
              "mean     68.908000\n",
              "std       2.014118\n",
              "min      66.100000\n",
              "25%      67.125000\n",
              "50%      68.450000\n",
              "75%      70.425000\n",
              "max      73.200000\n",
              "Name: TI, dtype: float64"
            ]
          },
          "metadata": {},
          "execution_count": 33
        }
      ],
      "source": [
        "df['TI'].describe()"
      ]
    },
    {
      "cell_type": "markdown",
      "source": [
        "**Ans 1 a)**\n",
        "\n",
        "uniformity in sintermaking can be seen by corresponding feature values of all mean value of labels\n",
        "\n",
        "**b)**\n",
        "\n",
        "irregulatity of Sinter  (in RDI) is majorly caused by high values of Al2O3 .\n",
        "similarly due to CaO , the basicity Ratio increasing so much\n",
        "and for Tumbling Index , again Al2O3  affecting.\n",
        "\n",
        "these are the factor affecting Sinter characteristic.\n",
        "we can choose lower Al2O3 ( as lower RDI value is requird) and \n",
        "\n",
        "\n",
        "---"
      ],
      "metadata": {
        "id": "l3gSMcPhzQ_U"
      },
      "id": "l3gSMcPhzQ_U"
    },
    {
      "cell_type": "markdown",
      "source": [
        "<br>\n",
        "<br>\n",
        "<br>\n",
        "<br>"
      ],
      "metadata": {
        "id": "cg9wNCfU2lpc"
      },
      "id": "cg9wNCfU2lpc"
    },
    {
      "cell_type": "markdown",
      "id": "faa0be1a",
      "metadata": {
        "id": "faa0be1a"
      },
      "source": [
        "---\n",
        "\n",
        "**Ans 2** \n",
        "### Justification based on metallurgical aspect\n",
        "\n",
        "---\n"
      ]
    },
    {
      "cell_type": "markdown",
      "source": [
        "<br>\n",
        "<br>\n",
        "<br>\n",
        "<br>"
      ],
      "metadata": {
        "id": "MNZP7yai3JOe"
      },
      "id": "MNZP7yai3JOe"
    },
    {
      "cell_type": "markdown",
      "source": [
        "---\n",
        "\n",
        "**Ans 3**\n",
        "<br>\n",
        "we can either use GA optimizer to find out the balanced value for all these(labels) influencing factor (features).\n",
        "or we can use PCA on labelsfirst and then findout the mean / median and choose corresponding feature values"
      ],
      "metadata": {
        "id": "8lQ6qabj3MNF"
      },
      "id": "8lQ6qabj3MNF"
    },
    {
      "cell_type": "code",
      "source": [],
      "metadata": {
        "id": "Ia6xCouh278I"
      },
      "id": "Ia6xCouh278I",
      "execution_count": null,
      "outputs": []
    }
  ],
  "metadata": {
    "kernelspec": {
      "display_name": "Python 3.9.7 ('base')",
      "language": "python",
      "name": "python3"
    },
    "language_info": {
      "codemirror_mode": {
        "name": "ipython",
        "version": 3
      },
      "file_extension": ".py",
      "mimetype": "text/x-python",
      "name": "python",
      "nbconvert_exporter": "python",
      "pygments_lexer": "ipython3",
      "version": "3.9.7"
    },
    "vscode": {
      "interpreter": {
        "hash": "103cf52537a6fddb8d3c3226c302202966aa7e270616b4c18b690c71330ff065"
      }
    },
    "colab": {
      "provenance": []
    }
  },
  "nbformat": 4,
  "nbformat_minor": 5
}